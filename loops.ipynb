{
 "cells": [
  {
   "cell_type": "code",
   "execution_count": 8,
   "id": "02677ecd-b5f3-4148-9de2-147bbe10d4c4",
   "metadata": {},
   "outputs": [
    {
     "name": "stdout",
     "output_type": "stream",
     "text": [
      "1\n",
      "2\n",
      "3\n",
      "4\n"
     ]
    }
   ],
   "source": [
    "#Print nmber from 1 to 5 ing a while loop\n",
    "n = 5\n",
    "i = 1\n",
    "while i < n:\n",
    "    print(i)\n",
    "    i += 1"
   ]
  },
  {
   "cell_type": "code",
   "execution_count": 5,
   "id": "13a657d1-3cad-4c7c-a19e-0362b9ddbc95",
   "metadata": {},
   "outputs": [
    {
     "name": "stdout",
     "output_type": "stream",
     "text": [
      "The sum of numbers from 1 to 10 is: 55\n"
     ]
    }
   ],
   "source": [
    "#Calclate the sum of number from 1 to 10 using a while loop.\n",
    "n = 1\n",
    "total_sum = 0\n",
    "while n <= 10:\n",
    "    total_sum += n\n",
    "    n += 1\n",
    "print(\"The sum of numbers from 1 to 10 is:\", total_sum)"
   ]
  },
  {
   "cell_type": "code",
   "execution_count": 10,
   "id": "e590c0de-a289-40af-b2e7-c77c50836a77",
   "metadata": {},
   "outputs": [
    {
     "name": "stdin",
     "output_type": "stream",
     "text": [
      "Enter a number:  5\n"
     ]
    },
    {
     "name": "stdout",
     "output_type": "stream",
     "text": [
      "Factorial of the given number is:  120\n"
     ]
    }
   ],
   "source": [
    "#Calculate the factorial of a number using a for loop\n",
    "n = int (input (\"Enter a number: \"))\n",
    "factorial = 1\n",
    "if n >= 1:\n",
    "    for i in range (1, n+1):\n",
    "        factorial=factorial *i\n",
    "print(\"Factorial of the given number is: \", factorial)"
   ]
  },
  {
   "cell_type": "code",
   "execution_count": 7,
   "id": "de1a9e19-d769-41b3-b350-212b2b491ccb",
   "metadata": {},
   "outputs": [
    {
     "name": "stdout",
     "output_type": "stream",
     "text": [
      "Number of vowels are:\n",
      "5\n"
     ]
    }
   ],
   "source": [
    "#Count the number of vowel in a string using a for loop\n",
    "string = \"aeroplane\"\n",
    "vowels=0\n",
    "for i in string:\n",
    "      if(i=='a' or i=='e' or i=='i' or i=='o' or i=='u' or i=='A' or i=='E' or i=='I' or i=='O' or i=='U'):\n",
    "            vowels=vowels+1\n",
    "print(\"Number of vowels are:\")\n",
    "print(vowels)"
   ]
  },
  {
   "cell_type": "code",
   "execution_count": 10,
   "id": "b9f8b0ca-3f32-4f34-a075-0e88242a3763",
   "metadata": {},
   "outputs": [
    {
     "name": "stdout",
     "output_type": "stream",
     "text": [
      "*\n",
      "**\n",
      "***\n",
      "****\n"
     ]
    }
   ],
   "source": [
    "#Print a pattern using nested loop\n",
    "row = 1\n",
    "while row <=4:\n",
    "    col = 1\n",
    "    while col <=row:\n",
    "        print(\"*\", end= \"\")\n",
    "        col=col+1\n",
    "    print()\n",
    "    row= row+1"
   ]
  },
  {
   "cell_type": "code",
   "execution_count": 11,
   "id": "45b09060-3064-4656-a4e9-d4e7f6717e75",
   "metadata": {},
   "outputs": [
    {
     "name": "stdout",
     "output_type": "stream",
     "text": [
      "i = 1 :  1  2  3  4  5  6  7  8  9 \n",
      "i = 2 :  2  4  6  8 10 12 14 16 18 \n",
      "i = 3 :  3  6  9 12 15 18 21 24 27 \n",
      "i = 4 :  4  8 12 16 20 24 28 32 36 \n",
      "i = 5 :  5 10 15 20 25 30 35 40 45 \n",
      "i = 6 :  6 12 18 24 30 36 42 48 54 \n",
      "i = 7 :  7 14 21 28 35 42 49 56 63 \n",
      "i = 8 :  8 16 24 32 40 48 56 64 72 \n",
      "i = 9 :  9 18 27 36 45 54 63 72 81 \n"
     ]
    }
   ],
   "source": [
    "#Generate a multiplication table using nested loop\n",
    "for i in range(1, 10):\n",
    "    print(\"i =\", i, \":\", end=\" \")\n",
    "    for j in range(1, 10):\n",
    "        print(\"{:2d}\".format(i * j), end=\" \")\n",
    "    print()"
   ]
  },
  {
   "cell_type": "code",
   "execution_count": null,
   "id": "fc2a7d9f-ac24-4331-86fa-73c342d381d0",
   "metadata": {},
   "outputs": [],
   "source": []
  }
 ],
 "metadata": {
  "kernelspec": {
   "display_name": "Python 3 (ipykernel)",
   "language": "python",
   "name": "python3"
  },
  "language_info": {
   "codemirror_mode": {
    "name": "ipython",
    "version": 3
   },
   "file_extension": ".py",
   "mimetype": "text/x-python",
   "name": "python",
   "nbconvert_exporter": "python",
   "pygments_lexer": "ipython3",
   "version": "3.10.8"
  }
 },
 "nbformat": 4,
 "nbformat_minor": 5
}
